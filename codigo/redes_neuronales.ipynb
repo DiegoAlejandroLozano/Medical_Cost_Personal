{
 "cells": [
  {
   "cell_type": "code",
   "execution_count": 1,
   "metadata": {},
   "outputs": [],
   "source": [
    "#ignorando los warnings\n",
    "import warnings\n",
    "warnings.filterwarnings('ignore')"
   ]
  },
  {
   "cell_type": "code",
   "execution_count": 2,
   "metadata": {},
   "outputs": [],
   "source": [
    "#Se importan las funciones personalizadas\n",
    "import sys\n",
    "sys.path.append('..\\\\utils\\\\')"
   ]
  },
  {
   "attachments": {},
   "cell_type": "markdown",
   "metadata": {},
   "source": [
    "## 1. Importando las librerías"
   ]
  },
  {
   "cell_type": "code",
   "execution_count": 3,
   "metadata": {},
   "outputs": [],
   "source": [
    "import pandas as pd\n",
    "\n",
    "from matplotlib import pyplot as plt\n",
    "\n",
    "from sklearn.model_selection import train_test_split\n",
    "from sklearn.metrics import r2_score\n",
    "from sklearn.preprocessing import RobustScaler, PolynomialFeatures\n",
    "\n",
    "from tensorflow import keras\n",
    "from keras.callbacks import ModelCheckpoint"
   ]
  },
  {
   "attachments": {},
   "cell_type": "markdown",
   "metadata": {},
   "source": [
    "## 2. Leyendo los datos"
   ]
  },
  {
   "cell_type": "code",
   "execution_count": 4,
   "metadata": {},
   "outputs": [
    {
     "data": {
      "text/html": [
       "<div>\n",
       "<style scoped>\n",
       "    .dataframe tbody tr th:only-of-type {\n",
       "        vertical-align: middle;\n",
       "    }\n",
       "\n",
       "    .dataframe tbody tr th {\n",
       "        vertical-align: top;\n",
       "    }\n",
       "\n",
       "    .dataframe thead th {\n",
       "        text-align: right;\n",
       "    }\n",
       "</style>\n",
       "<table border=\"1\" class=\"dataframe\">\n",
       "  <thead>\n",
       "    <tr style=\"text-align: right;\">\n",
       "      <th></th>\n",
       "      <th>age</th>\n",
       "      <th>bmi</th>\n",
       "      <th>children</th>\n",
       "      <th>charges</th>\n",
       "      <th>sex_male</th>\n",
       "      <th>smoker_yes</th>\n",
       "      <th>region_northwest</th>\n",
       "      <th>region_southeast</th>\n",
       "      <th>region_southwest</th>\n",
       "    </tr>\n",
       "  </thead>\n",
       "  <tbody>\n",
       "    <tr>\n",
       "      <th>0</th>\n",
       "      <td>19</td>\n",
       "      <td>27.900</td>\n",
       "      <td>0</td>\n",
       "      <td>16884.92400</td>\n",
       "      <td>0</td>\n",
       "      <td>1</td>\n",
       "      <td>0</td>\n",
       "      <td>0</td>\n",
       "      <td>1</td>\n",
       "    </tr>\n",
       "    <tr>\n",
       "      <th>1</th>\n",
       "      <td>18</td>\n",
       "      <td>33.770</td>\n",
       "      <td>1</td>\n",
       "      <td>1725.55230</td>\n",
       "      <td>1</td>\n",
       "      <td>0</td>\n",
       "      <td>0</td>\n",
       "      <td>1</td>\n",
       "      <td>0</td>\n",
       "    </tr>\n",
       "    <tr>\n",
       "      <th>2</th>\n",
       "      <td>28</td>\n",
       "      <td>33.000</td>\n",
       "      <td>3</td>\n",
       "      <td>4449.46200</td>\n",
       "      <td>1</td>\n",
       "      <td>0</td>\n",
       "      <td>0</td>\n",
       "      <td>1</td>\n",
       "      <td>0</td>\n",
       "    </tr>\n",
       "    <tr>\n",
       "      <th>3</th>\n",
       "      <td>33</td>\n",
       "      <td>22.705</td>\n",
       "      <td>0</td>\n",
       "      <td>21984.47061</td>\n",
       "      <td>1</td>\n",
       "      <td>0</td>\n",
       "      <td>1</td>\n",
       "      <td>0</td>\n",
       "      <td>0</td>\n",
       "    </tr>\n",
       "    <tr>\n",
       "      <th>4</th>\n",
       "      <td>32</td>\n",
       "      <td>28.880</td>\n",
       "      <td>0</td>\n",
       "      <td>3866.85520</td>\n",
       "      <td>1</td>\n",
       "      <td>0</td>\n",
       "      <td>1</td>\n",
       "      <td>0</td>\n",
       "      <td>0</td>\n",
       "    </tr>\n",
       "  </tbody>\n",
       "</table>\n",
       "</div>"
      ],
      "text/plain": [
       "   age     bmi  children      charges  sex_male  smoker_yes  region_northwest  \\\n",
       "0   19  27.900         0  16884.92400         0           1                 0   \n",
       "1   18  33.770         1   1725.55230         1           0                 0   \n",
       "2   28  33.000         3   4449.46200         1           0                 0   \n",
       "3   33  22.705         0  21984.47061         1           0                 1   \n",
       "4   32  28.880         0   3866.85520         1           0                 1   \n",
       "\n",
       "   region_southeast  region_southwest  \n",
       "0                 0                 1  \n",
       "1                 1                 0  \n",
       "2                 1                 0  \n",
       "3                 0                 0  \n",
       "4                 0                 0  "
      ]
     },
     "execution_count": 4,
     "metadata": {},
     "output_type": "execute_result"
    }
   ],
   "source": [
    "dataset = pd.read_csv('..\\datos_procesados\\datos_procesados.csv', sep=';')\n",
    "dataset.head()"
   ]
  },
  {
   "attachments": {},
   "cell_type": "markdown",
   "metadata": {},
   "source": [
    "## 3. Separando los datos en las variables predictoras (**X**) y la variable a predecir (y)"
   ]
  },
  {
   "cell_type": "code",
   "execution_count": 5,
   "metadata": {},
   "outputs": [],
   "source": [
    "X = dataset.drop(columns=['charges'], axis=1)\n",
    "y = dataset['charges']"
   ]
  },
  {
   "attachments": {},
   "cell_type": "markdown",
   "metadata": {},
   "source": [
    "## 4. Separando las datos en train y test"
   ]
  },
  {
   "cell_type": "code",
   "execution_count": 6,
   "metadata": {},
   "outputs": [],
   "source": [
    "X_train, X_test, y_train, y_test = train_test_split(X, y, test_size=0.3, random_state=42)"
   ]
  },
  {
   "attachments": {},
   "cell_type": "markdown",
   "metadata": {},
   "source": [
    "## 5. Realizando el escalimiento robusto de las varibales predictoras"
   ]
  },
  {
   "cell_type": "code",
   "execution_count": 7,
   "metadata": {},
   "outputs": [],
   "source": [
    "scaler_train    = RobustScaler()\n",
    "scaler_test     = RobustScaler()\n",
    "\n",
    "X_train_esc = scaler_train.fit_transform(X=X_train)\n",
    "X_test_esc  = scaler_test.fit_transform(X=X_test)"
   ]
  },
  {
   "attachments": {},
   "cell_type": "markdown",
   "metadata": {},
   "source": [
    "## 6. Creación del modelo de red neuronal"
   ]
  },
  {
   "cell_type": "code",
   "execution_count": 8,
   "metadata": {},
   "outputs": [],
   "source": [
    "#Definiendo las capas\n",
    "entrada         = keras.layers.Input(shape=X_train_esc.shape[1:], name='capa_de_entrada')\n",
    "capa_oculta_1   = keras.layers.Dense(300, activation='relu', name='capa_oculta_1')(entrada)\n",
    "capa_oculta_2   = keras.layers.Dense(300, activation='relu', name='capa_oculta_2')(capa_oculta_1)\n",
    "capa_oculta_3   = keras.layers.Dense(300, activation='relu', name='capa_oculta_3')(capa_oculta_2)\n",
    "capa_oculta_4   = keras.layers.Dense(300, activation='relu', name='capa_oculta_4')(capa_oculta_3)\n",
    "capa_oculta_5   = keras.layers.Dense(300, activation='relu', name='capa_oculta_5')(capa_oculta_4)\n",
    "capa_oculta_6   = keras.layers.Dense(300, activation='relu', name='capa_oculta_6')(capa_oculta_5)\n",
    "capa_oculta_7   = keras.layers.Dense(300, activation='relu', name='capa_oculta_7')(capa_oculta_6)\n",
    "capa_oculta_8   = keras.layers.Dense(300, activation='relu', name='capa_oculta_8')(capa_oculta_7)\n",
    "capa_oculta_9   = keras.layers.Dense(300, activation='relu', name='capa_oculta_9')(capa_oculta_8)\n",
    "capa_oculta_10   = keras.layers.Dense(300, activation='relu', name='capa_oculta_10')(capa_oculta_9)\n",
    "# capa_oculta_11   = keras.layers.Dense(300, activation='relu', name='capa_oculta_11')(capa_oculta_10)\n",
    "# capa_oculta_12   = keras.layers.Dense(300, activation='relu', name='capa_oculta_12')(capa_oculta_11)\n",
    "# capa_oculta_13   = keras.layers.Dense(300, activation='relu', name='capa_oculta_13')(capa_oculta_12)\n",
    "# capa_oculta_14   = keras.layers.Dense(300, activation='relu', name='capa_oculta_14')(capa_oculta_13)\n",
    "# capa_oculta_15   = keras.layers.Dense(300, activation='relu', name='capa_oculta_15')(capa_oculta_14)\n",
    "# capa_oculta_16   = keras.layers.Dense(300, activation='relu', name='capa_oculta_16')(capa_oculta_15)\n",
    "# capa_oculta_17   = keras.layers.Dense(300, activation='relu', name='capa_oculta_17')(capa_oculta_16)\n",
    "# capa_oculta_18   = keras.layers.Dense(300, activation='relu', name='capa_oculta_18')(capa_oculta_17)\n",
    "# capa_oculta_19   = keras.layers.Dense(300, activation='relu', name='capa_oculta_19')(capa_oculta_18)\n",
    "# capa_oculta_20   = keras.layers.Dense(300, activation='relu', name='capa_oculta_20')(capa_oculta_19)\n",
    "salida          = keras.layers.Dense(1, activation='linear', name='capa_de_salida')(capa_oculta_10)\n",
    "\n",
    "#Creando el modelo\n",
    "modelo = keras.Model(inputs=[entrada], outputs=[salida])"
   ]
  },
  {
   "attachments": {},
   "cell_type": "markdown",
   "metadata": {},
   "source": [
    "## 7. Compilando el modelo"
   ]
  },
  {
   "cell_type": "code",
   "execution_count": 9,
   "metadata": {},
   "outputs": [],
   "source": [
    "modelo.compile(loss='huber_loss', optimizer=keras.optimizers.Adam(learning_rate=0.0001), metrics=[])"
   ]
  },
  {
   "attachments": {},
   "cell_type": "markdown",
   "metadata": {},
   "source": [
    "## 8. Entrenando el modelo"
   ]
  },
  {
   "cell_type": "code",
   "execution_count": 10,
   "metadata": {},
   "outputs": [
    {
     "name": "stdout",
     "output_type": "stream",
     "text": [
      "Epoch 1/100\n",
      "30/30 [==============================] - 2s 18ms/step - loss: 13034.2002\n",
      "Epoch 2/100\n",
      "30/30 [==============================] - 1s 21ms/step - loss: 13007.0664\n",
      "Epoch 3/100\n",
      "30/30 [==============================] - 1s 18ms/step - loss: 11493.5615\n",
      "Epoch 4/100\n",
      "30/30 [==============================] - 1s 18ms/step - loss: 7985.7705\n",
      "Epoch 5/100\n",
      "30/30 [==============================] - 1s 19ms/step - loss: 7265.3750\n",
      "Epoch 6/100\n",
      "30/30 [==============================] - 1s 19ms/step - loss: 6631.4004\n",
      "Epoch 7/100\n",
      "30/30 [==============================] - 1s 18ms/step - loss: 5919.0098\n",
      "Epoch 8/100\n",
      "30/30 [==============================] - 1s 24ms/step - loss: 4947.6035\n",
      "Epoch 9/100\n",
      "30/30 [==============================] - 1s 19ms/step - loss: 4110.3965\n",
      "Epoch 10/100\n",
      "30/30 [==============================] - 1s 19ms/step - loss: 3720.1057\n",
      "Epoch 11/100\n",
      "30/30 [==============================] - 1s 19ms/step - loss: 3530.4844\n",
      "Epoch 12/100\n",
      "30/30 [==============================] - 1s 24ms/step - loss: 3362.0046\n",
      "Epoch 13/100\n",
      "30/30 [==============================] - 1s 32ms/step - loss: 3183.4871\n",
      "Epoch 14/100\n",
      "30/30 [==============================] - 1s 24ms/step - loss: 2913.4463\n",
      "Epoch 15/100\n",
      "30/30 [==============================] - 1s 23ms/step - loss: 2720.0476\n",
      "Epoch 16/100\n",
      "30/30 [==============================] - 1s 19ms/step - loss: 2532.6582\n",
      "Epoch 17/100\n",
      "30/30 [==============================] - 1s 24ms/step - loss: 2476.7131\n",
      "Epoch 18/100\n",
      "30/30 [==============================] - 1s 19ms/step - loss: 2305.3599\n",
      "Epoch 19/100\n",
      "30/30 [==============================] - 1s 22ms/step - loss: 2247.9346\n",
      "Epoch 20/100\n",
      "30/30 [==============================] - 1s 20ms/step - loss: 2176.2080\n",
      "Epoch 21/100\n",
      "30/30 [==============================] - 1s 19ms/step - loss: 2132.0012\n",
      "Epoch 22/100\n",
      "30/30 [==============================] - 1s 19ms/step - loss: 2101.1738\n",
      "Epoch 23/100\n",
      "30/30 [==============================] - 1s 18ms/step - loss: 2061.2363\n",
      "Epoch 24/100\n",
      "30/30 [==============================] - 0s 14ms/step - loss: 2093.8687\n",
      "Epoch 25/100\n",
      "30/30 [==============================] - 1s 21ms/step - loss: 1992.7365\n",
      "Epoch 26/100\n",
      "30/30 [==============================] - 0s 14ms/step - loss: 2024.6427\n",
      "Epoch 27/100\n",
      "30/30 [==============================] - 1s 23ms/step - loss: 1988.5371\n",
      "Epoch 28/100\n",
      "30/30 [==============================] - 1s 20ms/step - loss: 1972.8802\n",
      "Epoch 29/100\n",
      "30/30 [==============================] - 0s 16ms/step - loss: 1973.9731\n",
      "Epoch 30/100\n",
      "30/30 [==============================] - 0s 14ms/step - loss: 1974.7144\n",
      "Epoch 31/100\n",
      "30/30 [==============================] - 1s 21ms/step - loss: 1930.6919\n",
      "Epoch 32/100\n",
      "30/30 [==============================] - 0s 15ms/step - loss: 1960.7937\n",
      "Epoch 33/100\n",
      "30/30 [==============================] - 0s 14ms/step - loss: 1958.6990\n",
      "Epoch 34/100\n",
      "30/30 [==============================] - 1s 18ms/step - loss: 1900.3452\n",
      "Epoch 35/100\n",
      "30/30 [==============================] - 1s 19ms/step - loss: 1896.4208\n",
      "Epoch 36/100\n",
      "30/30 [==============================] - 1s 18ms/step - loss: 1870.7250\n",
      "Epoch 37/100\n",
      "30/30 [==============================] - 1s 18ms/step - loss: 1871.9738\n",
      "Epoch 38/100\n",
      "30/30 [==============================] - 1s 26ms/step - loss: 1849.2736\n",
      "Epoch 39/100\n",
      "30/30 [==============================] - 0s 15ms/step - loss: 1854.8850\n",
      "Epoch 40/100\n",
      "30/30 [==============================] - 1s 19ms/step - loss: 1838.5145\n",
      "Epoch 41/100\n",
      "30/30 [==============================] - 0s 15ms/step - loss: 1838.6361\n",
      "Epoch 42/100\n",
      "30/30 [==============================] - 0s 14ms/step - loss: 1853.5397\n",
      "Epoch 43/100\n",
      "30/30 [==============================] - 0s 15ms/step - loss: 1884.4878\n",
      "Epoch 44/100\n",
      "30/30 [==============================] - 1s 23ms/step - loss: 1807.9906\n",
      "Epoch 45/100\n",
      "30/30 [==============================] - 0s 15ms/step - loss: 1819.4635\n",
      "Epoch 46/100\n",
      "30/30 [==============================] - 1s 21ms/step - loss: 1797.0039\n",
      "Epoch 47/100\n",
      "30/30 [==============================] - 0s 15ms/step - loss: 1804.9741\n",
      "Epoch 48/100\n",
      "30/30 [==============================] - 0s 14ms/step - loss: 1824.3029\n",
      "Epoch 49/100\n",
      "30/30 [==============================] - 1s 17ms/step - loss: 1806.3269\n",
      "Epoch 50/100\n",
      "30/30 [==============================] - 1s 24ms/step - loss: 1775.6171\n",
      "Epoch 51/100\n",
      "30/30 [==============================] - 1s 18ms/step - loss: 1752.0297\n",
      "Epoch 52/100\n",
      "30/30 [==============================] - 0s 14ms/step - loss: 1849.7952\n",
      "Epoch 53/100\n",
      "30/30 [==============================] - 0s 14ms/step - loss: 1802.4486\n",
      "Epoch 54/100\n",
      "30/30 [==============================] - 0s 14ms/step - loss: 1888.0403\n",
      "Epoch 55/100\n",
      "30/30 [==============================] - 0s 17ms/step - loss: 1844.2356\n",
      "Epoch 56/100\n",
      "30/30 [==============================] - 1s 17ms/step - loss: 1779.7428\n",
      "Epoch 57/100\n",
      "30/30 [==============================] - 0s 14ms/step - loss: 1758.6008\n",
      "Epoch 58/100\n",
      "30/30 [==============================] - 1s 17ms/step - loss: 1746.0088\n",
      "Epoch 59/100\n",
      "30/30 [==============================] - 0s 15ms/step - loss: 1753.5546\n",
      "Epoch 60/100\n",
      "30/30 [==============================] - 1s 19ms/step - loss: 1724.8073\n",
      "Epoch 61/100\n",
      "30/30 [==============================] - 1s 24ms/step - loss: 1720.1570\n",
      "Epoch 62/100\n",
      "30/30 [==============================] - 1s 23ms/step - loss: 1713.8718\n",
      "Epoch 63/100\n",
      "30/30 [==============================] - 0s 15ms/step - loss: 1715.1360\n",
      "Epoch 64/100\n",
      "30/30 [==============================] - 0s 16ms/step - loss: 1716.1444\n",
      "Epoch 65/100\n",
      "30/30 [==============================] - 1s 18ms/step - loss: 1709.4463\n",
      "Epoch 66/100\n",
      "30/30 [==============================] - 0s 14ms/step - loss: 1713.6453\n",
      "Epoch 67/100\n",
      "30/30 [==============================] - 0s 14ms/step - loss: 1717.7468\n",
      "Epoch 68/100\n",
      "30/30 [==============================] - 1s 17ms/step - loss: 1721.2245\n",
      "Epoch 69/100\n",
      "30/30 [==============================] - 1s 18ms/step - loss: 1702.0424\n",
      "Epoch 70/100\n",
      "30/30 [==============================] - 1s 19ms/step - loss: 1685.6382\n",
      "Epoch 71/100\n",
      "30/30 [==============================] - 0s 15ms/step - loss: 1714.3993\n",
      "Epoch 72/100\n",
      "30/30 [==============================] - 1s 24ms/step - loss: 1675.2334\n",
      "Epoch 73/100\n",
      "30/30 [==============================] - 1s 21ms/step - loss: 1661.0916\n",
      "Epoch 74/100\n",
      "30/30 [==============================] - 0s 15ms/step - loss: 1729.6643\n",
      "Epoch 75/100\n",
      "30/30 [==============================] - 1s 18ms/step - loss: 1709.2366\n",
      "Epoch 76/100\n",
      "30/30 [==============================] - 0s 14ms/step - loss: 1677.6132\n",
      "Epoch 77/100\n",
      "30/30 [==============================] - 0s 14ms/step - loss: 1676.0403\n",
      "Epoch 78/100\n",
      "30/30 [==============================] - 1s 19ms/step - loss: 1657.2811\n",
      "Epoch 79/100\n",
      "30/30 [==============================] - 0s 14ms/step - loss: 1738.5140\n",
      "Epoch 80/100\n",
      "30/30 [==============================] - 0s 15ms/step - loss: 1673.8096\n",
      "Epoch 81/100\n",
      "30/30 [==============================] - 1s 23ms/step - loss: 1644.7622\n",
      "Epoch 82/100\n",
      "30/30 [==============================] - 0s 16ms/step - loss: 1663.0110\n",
      "Epoch 83/100\n",
      "30/30 [==============================] - 0s 16ms/step - loss: 1650.1195\n",
      "Epoch 84/100\n",
      "30/30 [==============================] - 0s 16ms/step - loss: 1691.0215\n",
      "Epoch 85/100\n",
      "30/30 [==============================] - 0s 15ms/step - loss: 1725.1012\n",
      "Epoch 86/100\n",
      "30/30 [==============================] - 0s 15ms/step - loss: 1699.6938\n",
      "Epoch 87/100\n",
      "30/30 [==============================] - 1s 19ms/step - loss: 1665.3002\n",
      "Epoch 88/100\n",
      "30/30 [==============================] - 0s 13ms/step - loss: 1658.0876\n",
      "Epoch 89/100\n",
      "30/30 [==============================] - 1s 19ms/step - loss: 1644.2958\n",
      "Epoch 90/100\n",
      "30/30 [==============================] - 0s 15ms/step - loss: 1648.0503\n",
      "Epoch 91/100\n",
      "30/30 [==============================] - 1s 18ms/step - loss: 1617.9031\n",
      "Epoch 92/100\n",
      "30/30 [==============================] - 0s 15ms/step - loss: 1638.9905\n",
      "Epoch 93/100\n",
      "30/30 [==============================] - 1s 22ms/step - loss: 1612.3262\n",
      "Epoch 94/100\n",
      "30/30 [==============================] - 0s 14ms/step - loss: 1625.2213\n",
      "Epoch 95/100\n",
      "30/30 [==============================] - 1s 18ms/step - loss: 1605.6078\n",
      "Epoch 96/100\n",
      "30/30 [==============================] - 1s 17ms/step - loss: 1615.3373\n",
      "Epoch 97/100\n",
      "30/30 [==============================] - 1s 17ms/step - loss: 1621.9589\n",
      "Epoch 98/100\n",
      "30/30 [==============================] - 1s 18ms/step - loss: 1680.8225\n",
      "Epoch 99/100\n",
      "30/30 [==============================] - 0s 15ms/step - loss: 1625.9762\n",
      "Epoch 100/100\n",
      "30/30 [==============================] - 0s 15ms/step - loss: 1611.1349\n"
     ]
    }
   ],
   "source": [
    "checkpoint = ModelCheckpoint(\n",
    "    filepath='..\\modelos_guardados\\modelo_redes_neuronales.h5',\n",
    "    monitor='loss',\n",
    "    save_best_only=True\n",
    ")\n",
    "\n",
    "history = modelo.fit(X_train_esc, y_train, epochs=100, validation_batch_size=0.2, callbacks=[checkpoint])"
   ]
  },
  {
   "attachments": {},
   "cell_type": "markdown",
   "metadata": {},
   "source": [
    "## 9. Se carga el mejor modelo entrenado"
   ]
  },
  {
   "cell_type": "code",
   "execution_count": 11,
   "metadata": {},
   "outputs": [],
   "source": [
    "modelo = keras.models.load_model('..\\modelos_guardados\\modelo_redes_neuronales.h5')"
   ]
  },
  {
   "attachments": {},
   "cell_type": "markdown",
   "metadata": {},
   "source": [
    "## 10. Evaluación del modelo"
   ]
  },
  {
   "cell_type": "code",
   "execution_count": 12,
   "metadata": {},
   "outputs": [
    {
     "name": "stdout",
     "output_type": "stream",
     "text": [
      "13/13 [==============================] - 0s 7ms/step - loss: 2696.6736\n"
     ]
    },
    {
     "data": {
      "text/plain": [
       "2696.673583984375"
      ]
     },
     "execution_count": 12,
     "metadata": {},
     "output_type": "execute_result"
    }
   ],
   "source": [
    "modelo.evaluate(X_test_esc, y_test)"
   ]
  },
  {
   "cell_type": "code",
   "execution_count": 13,
   "metadata": {},
   "outputs": [
    {
     "name": "stdout",
     "output_type": "stream",
     "text": [
      "13/13 [==============================] - 0s 4ms/step\n"
     ]
    },
    {
     "data": {
      "text/plain": [
       "0.8385343943572445"
      ]
     },
     "execution_count": 13,
     "metadata": {},
     "output_type": "execute_result"
    }
   ],
   "source": [
    "y_pred = modelo.predict(X_test_esc)\n",
    "\n",
    "r2_score(y_true=y_test, y_pred=y_pred)"
   ]
  },
  {
   "attachments": {},
   "cell_type": "markdown",
   "metadata": {},
   "source": [
    "## 11. Visualización de lo resultados"
   ]
  },
  {
   "cell_type": "code",
   "execution_count": 14,
   "metadata": {},
   "outputs": [
    {
     "data": {
      "image/png": "[encoded data removed]",
      "text/plain": [
       "<Figure size 640x480 with 1 Axes>"
      ]
     },
     "metadata": {},
     "output_type": "display_data"
    }
   ],
   "source": [
    "y_t = y_test.values\n",
    "y_t.sort(axis=0)\n",
    "y_pred.sort(axis=0)\n",
    "x = range(y_t.size)\n",
    "\n",
    "plt.scatter(x, y_t, s=5, label='Precio (real)')\n",
    "plt.scatter(x, y_pred, s=5, label='Precio (predicción)')\n",
    "plt.ylabel('Precio (USD)')\n",
    "plt.grid()\n",
    "plt.legend()\n",
    "plt.show()"
   ]
  }
 ],
 "metadata": {
  "kernelspec": {
   "display_name": "venv",
   "language": "python",
   "name": "python3"
  },
  "language_info": {
   "codemirror_mode": {
    "name": "ipython",
    "version": 3
   },
   "file_extension": ".py",
   "mimetype": "text/x-python",
   "name": "python",
   "nbconvert_exporter": "python",
   "pygments_lexer": "ipython3",
   "version": "3.9.13"
  },
  "orig_nbformat": 4
 },
 "nbformat": 4,
 "nbformat_minor": 2
}
